{
 "metadata": {
  "language_info": {
   "codemirror_mode": {
    "name": "ipython",
    "version": 3
   },
   "file_extension": ".py",
   "mimetype": "text/x-python",
   "name": "python",
   "nbconvert_exporter": "python",
   "pygments_lexer": "ipython3",
   "version": "3.8.5-final"
  },
  "orig_nbformat": 2,
  "kernelspec": {
   "name": "python3",
   "display_name": "Python 3",
   "language": "python"
  }
 },
 "nbformat": 4,
 "nbformat_minor": 2,
 "cells": [
  {
   "cell_type": "code",
   "execution_count": 34,
   "metadata": {},
   "outputs": [],
   "source": [
    "import torch\n",
    "import torch.nn as nn\n",
    "from torch.utils.data.dataset import Dataset\n",
    "from torch.utils.data import DataLoader\n",
    "import numpy as np\n",
    "import pandas as pd"
   ]
  },
  {
   "cell_type": "code",
   "execution_count": 2,
   "metadata": {},
   "outputs": [],
   "source": [
    "from __future__ import unicode_literals, print_function, division\n",
    "from io import open\n",
    "import glob\n",
    "import os\n",
    "import unicodedata\n",
    "import string\n",
    "\n",
    "def findFiles(path): \n",
    "    return glob.glob(path)\n",
    "\n",
    "def unicodeToAscii(string):\n",
    "    return ''.join(\n",
    "        c for c in unicodedata.normalize('NFD', string)\n",
    "        if unicodedata.category(c) != 'Mn'\n",
    "        and c in all_letters\n",
    "    )\n",
    "# Read a file and split into lines\n",
    "def readLines(filename):\n",
    "    lines = open(filename, encoding='utf-8').read().strip().split('\\n')\n",
    "    return [unicodeToAscii(line) for line in lines]\n",
    "\n",
    "# Build the category_lines dictionary, a list of names per language\n",
    "category_lines = {}\n",
    "all_categories = []\n",
    "\n",
    "all_letters = string.ascii_letters + \" .,;'\"\n",
    "n_letters = len(all_letters) # 57\n",
    "\n",
    "for filename in findFiles('data/names/*.txt'):\n",
    "    category = os.path.splitext(os.path.basename(filename))[0]\n",
    "    all_categories.append(category)\n",
    "    lines = readLines(filename)\n",
    "    category_lines[category] = lines\n",
    "\n",
    "n_categories = len(all_categories) # 18"
   ]
  },
  {
   "cell_type": "code",
   "execution_count": 3,
   "metadata": {},
   "outputs": [],
   "source": [
    "# Find letter index from all_letters, e.g. \"a\" = 0\n",
    "def letterToIndex(letter):\n",
    "    return all_letters.find(letter)\n",
    "\n",
    "# Just for demonstration, turn a letter into a <1 x n_letters> Tensor\n",
    "def letterToTensor(letter):\n",
    "    tensor = torch.zeros(1, n_letters)\n",
    "    tensor[0][letterToIndex(letter)] = 1\n",
    "    return tensor\n",
    "\n",
    "# Turn a line into a <line_length x 1 x n_letters>,\n",
    "# or an array of one-hot letter vectors\n",
    "def lineToTensor(line):\n",
    "    tensor = torch.zeros(len(line), 1, n_letters)\n",
    "    for li, letter in enumerate(line):\n",
    "        tensor[li][0][letterToIndex(letter)] = 1\n",
    "    return tensor"
   ]
  },
  {
   "cell_type": "code",
   "execution_count": 43,
   "metadata": {},
   "outputs": [],
   "source": [
    "del df"
   ]
  },
  {
   "cell_type": "code",
   "execution_count": null,
   "metadata": {},
   "outputs": [],
   "source": []
  },
  {
   "cell_type": "code",
   "execution_count": 44,
   "metadata": {},
   "outputs": [],
   "source": [
    "x_list = []\n",
    "y_list = []\n",
    "\n",
    "for key, value in category_lines.items():\n",
    "    for v in value:\n",
    "        x_list.append(v)\n",
    "        y_list.append(key)\n"
   ]
  },
  {
   "cell_type": "code",
   "execution_count": 48,
   "metadata": {},
   "outputs": [
    {
     "output_type": "execute_result",
     "data": {
      "text/plain": [
       "                 0\n",
       "Arabic      Khoury\n",
       "Arabic       Nahas\n",
       "Arabic       Daher\n",
       "Arabic      Gerges\n",
       "Arabic      Nazari\n",
       "...            ...\n",
       "Vietnamese  Truong\n",
       "Vietnamese     Van\n",
       "Vietnamese    Vinh\n",
       "Vietnamese   Vuong\n",
       "Vietnamese     Vuu\n",
       "\n",
       "[20074 rows x 1 columns]"
      ],
      "text/html": "<div>\n<style scoped>\n    .dataframe tbody tr th:only-of-type {\n        vertical-align: middle;\n    }\n\n    .dataframe tbody tr th {\n        vertical-align: top;\n    }\n\n    .dataframe thead th {\n        text-align: right;\n    }\n</style>\n<table border=\"1\" class=\"dataframe\">\n  <thead>\n    <tr style=\"text-align: right;\">\n      <th></th>\n      <th>0</th>\n    </tr>\n  </thead>\n  <tbody>\n    <tr>\n      <th>Arabic</th>\n      <td>Khoury</td>\n    </tr>\n    <tr>\n      <th>Arabic</th>\n      <td>Nahas</td>\n    </tr>\n    <tr>\n      <th>Arabic</th>\n      <td>Daher</td>\n    </tr>\n    <tr>\n      <th>Arabic</th>\n      <td>Gerges</td>\n    </tr>\n    <tr>\n      <th>Arabic</th>\n      <td>Nazari</td>\n    </tr>\n    <tr>\n      <th>...</th>\n      <td>...</td>\n    </tr>\n    <tr>\n      <th>Vietnamese</th>\n      <td>Truong</td>\n    </tr>\n    <tr>\n      <th>Vietnamese</th>\n      <td>Van</td>\n    </tr>\n    <tr>\n      <th>Vietnamese</th>\n      <td>Vinh</td>\n    </tr>\n    <tr>\n      <th>Vietnamese</th>\n      <td>Vuong</td>\n    </tr>\n    <tr>\n      <th>Vietnamese</th>\n      <td>Vuu</td>\n    </tr>\n  </tbody>\n</table>\n<p>20074 rows × 1 columns</p>\n</div>"
     },
     "metadata": {},
     "execution_count": 48
    }
   ],
   "source": [
    "df = pd.DataFrame(index=y_list, data=x_list)\n",
    "df"
   ]
  },
  {
   "cell_type": "code",
   "execution_count": 51,
   "metadata": {},
   "outputs": [
    {
     "output_type": "execute_result",
     "data": {
      "text/plain": [
       "         name     country\n",
       "0      Khoury      Arabic\n",
       "1       Nahas      Arabic\n",
       "2       Daher      Arabic\n",
       "3      Gerges      Arabic\n",
       "4      Nazari      Arabic\n",
       "...       ...         ...\n",
       "20069  Truong  Vietnamese\n",
       "20070     Van  Vietnamese\n",
       "20071    Vinh  Vietnamese\n",
       "20072   Vuong  Vietnamese\n",
       "20073     Vuu  Vietnamese\n",
       "\n",
       "[20074 rows x 2 columns]"
      ],
      "text/html": "<div>\n<style scoped>\n    .dataframe tbody tr th:only-of-type {\n        vertical-align: middle;\n    }\n\n    .dataframe tbody tr th {\n        vertical-align: top;\n    }\n\n    .dataframe thead th {\n        text-align: right;\n    }\n</style>\n<table border=\"1\" class=\"dataframe\">\n  <thead>\n    <tr style=\"text-align: right;\">\n      <th></th>\n      <th>name</th>\n      <th>country</th>\n    </tr>\n  </thead>\n  <tbody>\n    <tr>\n      <th>0</th>\n      <td>Khoury</td>\n      <td>Arabic</td>\n    </tr>\n    <tr>\n      <th>1</th>\n      <td>Nahas</td>\n      <td>Arabic</td>\n    </tr>\n    <tr>\n      <th>2</th>\n      <td>Daher</td>\n      <td>Arabic</td>\n    </tr>\n    <tr>\n      <th>3</th>\n      <td>Gerges</td>\n      <td>Arabic</td>\n    </tr>\n    <tr>\n      <th>4</th>\n      <td>Nazari</td>\n      <td>Arabic</td>\n    </tr>\n    <tr>\n      <th>...</th>\n      <td>...</td>\n      <td>...</td>\n    </tr>\n    <tr>\n      <th>20069</th>\n      <td>Truong</td>\n      <td>Vietnamese</td>\n    </tr>\n    <tr>\n      <th>20070</th>\n      <td>Van</td>\n      <td>Vietnamese</td>\n    </tr>\n    <tr>\n      <th>20071</th>\n      <td>Vinh</td>\n      <td>Vietnamese</td>\n    </tr>\n    <tr>\n      <th>20072</th>\n      <td>Vuong</td>\n      <td>Vietnamese</td>\n    </tr>\n    <tr>\n      <th>20073</th>\n      <td>Vuu</td>\n      <td>Vietnamese</td>\n    </tr>\n  </tbody>\n</table>\n<p>20074 rows × 2 columns</p>\n</div>"
     },
     "metadata": {},
     "execution_count": 51
    }
   ],
   "source": [
    "df = pd.DataFrame(data = {'name' : x_list , 'country' : y_list})\n",
    "df"
   ]
  },
  {
   "cell_type": "code",
   "execution_count": 52,
   "metadata": {},
   "outputs": [],
   "source": [
    "df.to_csv('data/name.csv', index=False)"
   ]
  },
  {
   "cell_type": "code",
   "execution_count": 53,
   "metadata": {},
   "outputs": [
    {
     "output_type": "execute_result",
     "data": {
      "text/plain": [
       "         name     country\n",
       "0      Khoury      Arabic\n",
       "1       Nahas      Arabic\n",
       "2       Daher      Arabic\n",
       "3      Gerges      Arabic\n",
       "4      Nazari      Arabic\n",
       "...       ...         ...\n",
       "20069  Truong  Vietnamese\n",
       "20070     Van  Vietnamese\n",
       "20071    Vinh  Vietnamese\n",
       "20072   Vuong  Vietnamese\n",
       "20073     Vuu  Vietnamese\n",
       "\n",
       "[20074 rows x 2 columns]"
      ],
      "text/html": "<div>\n<style scoped>\n    .dataframe tbody tr th:only-of-type {\n        vertical-align: middle;\n    }\n\n    .dataframe tbody tr th {\n        vertical-align: top;\n    }\n\n    .dataframe thead th {\n        text-align: right;\n    }\n</style>\n<table border=\"1\" class=\"dataframe\">\n  <thead>\n    <tr style=\"text-align: right;\">\n      <th></th>\n      <th>name</th>\n      <th>country</th>\n    </tr>\n  </thead>\n  <tbody>\n    <tr>\n      <th>0</th>\n      <td>Khoury</td>\n      <td>Arabic</td>\n    </tr>\n    <tr>\n      <th>1</th>\n      <td>Nahas</td>\n      <td>Arabic</td>\n    </tr>\n    <tr>\n      <th>2</th>\n      <td>Daher</td>\n      <td>Arabic</td>\n    </tr>\n    <tr>\n      <th>3</th>\n      <td>Gerges</td>\n      <td>Arabic</td>\n    </tr>\n    <tr>\n      <th>4</th>\n      <td>Nazari</td>\n      <td>Arabic</td>\n    </tr>\n    <tr>\n      <th>...</th>\n      <td>...</td>\n      <td>...</td>\n    </tr>\n    <tr>\n      <th>20069</th>\n      <td>Truong</td>\n      <td>Vietnamese</td>\n    </tr>\n    <tr>\n      <th>20070</th>\n      <td>Van</td>\n      <td>Vietnamese</td>\n    </tr>\n    <tr>\n      <th>20071</th>\n      <td>Vinh</td>\n      <td>Vietnamese</td>\n    </tr>\n    <tr>\n      <th>20072</th>\n      <td>Vuong</td>\n      <td>Vietnamese</td>\n    </tr>\n    <tr>\n      <th>20073</th>\n      <td>Vuu</td>\n      <td>Vietnamese</td>\n    </tr>\n  </tbody>\n</table>\n<p>20074 rows × 2 columns</p>\n</div>"
     },
     "metadata": {},
     "execution_count": 53
    }
   ],
   "source": [
    "df = pd.read_csv('data/name.csv')\n",
    "df"
   ]
  },
  {
   "cell_type": "code",
   "execution_count": null,
   "metadata": {},
   "outputs": [],
   "source": [
    "class RnnDataset(Dataset):\n",
    "    def __init__(self, path):\n",
    "        from pandas import read_csv\n",
    "        import numpy as np\n",
    "        self.data = read_csv(path)\n",
    "        n = np.array(data['name'])\n",
    "        ##one-hot encoding\n",
    "\n",
    "        self.country = array(data['country'])\n",
    "\n",
    "\n",
    "    def __getitem__(self, index):\n",
    "\n",
    "        return (name, category)\n",
    "\n",
    "    def __len__(self):\n",
    "        return 20074"
   ]
  },
  {
   "cell_type": "code",
   "execution_count": null,
   "metadata": {},
   "outputs": [],
   "source": [
    "DataLoader(dataset, batch_size=1, shuffle=False, sampler=None,\n",
    "           batch_sampler=None, num_workers=0, collate_fn=None,\n",
    "           pin_memory=False, drop_last=False, timeout=0,\n",
    "           worker_init_fn=None, *, prefetch_factor=2,\n",
    "           persistent_workers=False)"
   ]
  },
  {
   "cell_type": "code",
   "execution_count": null,
   "metadata": {},
   "outputs": [],
   "source": [
    "class RNN(nn.Module):\n",
    "    def __init__(self, input_size, hidden_size, output_size):\n",
    "        super(RNN, self).__init__()\n",
    "\n",
    "        self.hidden_size = hidden_size\n",
    "\n",
    "        self.i2h = nn.Linear(input_size + hidden_size, hidden_size)\n",
    "        self.i2o = nn.Linear(input_size + hidden_size, output_size)\n",
    "\n",
    "        self.softmax = nn.LogSoftmax(dim=1)\n",
    "\n",
    "    def forward(self, input, hidden):\n",
    "        combined = torch.cat((input, hidden), 1)\n",
    "        hidden = self.i2h(combined)\n",
    "        output = self.i2o(combined)\n",
    "        ouput = self.softmax(output)\n",
    "        return output, hidden\n",
    "\n",
    "    def initHidden(self):\n",
    "        return torch.zeros(1, self.hidden_size)"
   ]
  },
  {
   "cell_type": "code",
   "execution_count": null,
   "metadata": {},
   "outputs": [],
   "source": [
    "model = RNN()\n",
    "\n",
    "loss =\n",
    "\n",
    "optimizer = Adam(model.parameters())"
   ]
  },
  {
   "cell_type": "code",
   "execution_count": null,
   "metadata": {},
   "outputs": [],
   "source": [
    "model.train()\n",
    "\n",
    "for name, country in train_loader:\n",
    "    \n",
    "    optimizer.zero_grad()\n",
    "    loss.backwar()\n",
    "    optimizer.step()\n",
    "\n",
    "    loss.item()\n"
   ]
  },
  {
   "cell_type": "code",
   "execution_count": null,
   "metadata": {},
   "outputs": [],
   "source": []
  }
 ]
}